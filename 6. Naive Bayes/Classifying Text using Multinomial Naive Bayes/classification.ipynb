{
 "cells": [
  {
   "cell_type": "markdown",
   "metadata": {},
   "source": [
    "# Classifying Text using Multinomial Naive Bayes"
   ]
  },
  {
   "cell_type": "code",
   "execution_count": 1,
   "metadata": {},
   "outputs": [],
   "source": [
    "from sklearn.datasets import fetch_20newsgroups\n",
    "from sklearn.feature_extraction.text import TfidfVectorizer\n",
    "from sklearn.naive_bayes import MultinomialNB\n",
    "from sklearn.pipeline import make_pipeline\n",
    "from sklearn.metrics import confusion_matrix\n",
    "import pandas as pd\n",
    "import numpy as np\n",
    "import matplotlib.pyplot as plt\n",
    "import seaborn as sns"
   ]
  },
  {
   "cell_type": "code",
   "execution_count": 2,
   "metadata": {},
   "outputs": [],
   "source": [
    "data = fetch_20newsgroups()"
   ]
  },
  {
   "cell_type": "code",
   "execution_count": 3,
   "metadata": {},
   "outputs": [
    {
     "data": {
      "text/plain": [
       "['alt.atheism',\n",
       " 'comp.graphics',\n",
       " 'comp.os.ms-windows.misc',\n",
       " 'comp.sys.ibm.pc.hardware',\n",
       " 'comp.sys.mac.hardware',\n",
       " 'comp.windows.x',\n",
       " 'misc.forsale',\n",
       " 'rec.autos',\n",
       " 'rec.motorcycles',\n",
       " 'rec.sport.baseball',\n",
       " 'rec.sport.hockey',\n",
       " 'sci.crypt',\n",
       " 'sci.electronics',\n",
       " 'sci.med',\n",
       " 'sci.space',\n",
       " 'soc.religion.christian',\n",
       " 'talk.politics.guns',\n",
       " 'talk.politics.mideast',\n",
       " 'talk.politics.misc',\n",
       " 'talk.religion.misc']"
      ]
     },
     "execution_count": 3,
     "metadata": {},
     "output_type": "execute_result"
    }
   ],
   "source": [
    "data.target_names"
   ]
  },
  {
   "cell_type": "code",
   "execution_count": 4,
   "metadata": {},
   "outputs": [],
   "source": [
    "categories = ['talk.religion.misc', 'soc.religion.christian', 'sci.space', 'comp.graphics']\n",
    "train = fetch_20newsgroups(subset='train', categories=categories)\n",
    "test = fetch_20newsgroups(subset='test', categories=categories)"
   ]
  },
  {
   "cell_type": "code",
   "execution_count": 5,
   "metadata": {},
   "outputs": [
    {
     "name": "stdout",
     "output_type": "stream",
     "text": [
      "From: jono@mac-ak-24.rtsg.mot.com (Jon Ogden)\n",
      "Subject: Re: Losing your temper is not a Christian trait\n",
      "Organization: Motorola LPA Development\n",
      "Lines: 26\n",
      "\n",
      "In article <Apr.23.02.55.47.1993.3138@geneva.rutgers.edu>, jcj@tellabs.com\n",
      "(jcj) wrote:\n",
      "\n",
      "> I'd like to remind people of the withering of the fig tree and Jesus\n",
      "> driving the money changers et. al. out of the temple.  I think those\n",
      "> were two instances of Christ showing anger (as part of His human side).\n",
      "> \n",
      "Yes, and what about Paul saying:\n",
      "\n",
      "26 Be ye angry, and sin not: let not the sun go down upon your wrath:\n",
      "(Ephesians 4:26).\n",
      "\n",
      "Obviously then, we can be angry w/o sinning.\n",
      "\n",
      "Jon\n",
      "\n",
      "------------------------------------------------\n",
      "Jon Ogden         - jono@mac-ak-24.rtsg.mot.com\n",
      "Motorola Cellular - Advanced Products Division\n",
      "Voice: 708-632-2521      Data: 708-632-6086\n",
      "------------------------------------------------\n",
      "\n",
      "They drew a circle and shut him out.\n",
      "Heretic, Rebel, a thing to flout.\n",
      "But Love and I had the wit to win;\n",
      "We drew a circle and took him in.\n",
      "\n"
     ]
    }
   ],
   "source": [
    "print(train.data[0])"
   ]
  },
  {
   "cell_type": "code",
   "execution_count": 6,
   "metadata": {},
   "outputs": [
    {
     "name": "stdout",
     "output_type": "stream",
     "text": [
      "From: MANDTBACKA@finabo.abo.fi (Mats Andtbacka)\n",
      "Subject: Re: If There Were No Hell\n",
      "Organization: Unorganized Usenet Postings UnInc.\n",
      "Lines: 26\n",
      "\n",
      "In <May.5.02.51.25.1993.28737@athos.rutgers.edu> shellgate!llo@uu4.psi.com writes:\n",
      "\n",
      "> Here's a question that some friends and I were debating last night.\n",
      "> Q: If you knew beyond all doubt that hell did not exist and that\n",
      ">    unbelievers simply remained dead, would you remain a Christian?\n",
      "\n",
      "      (Reasoning pertinent to believing Xians deleted for space)\n",
      "\n",
      "      It strikes me, for no apparent reason, that this is reversible.\n",
      "I.e., if I had proof that there existed a hell, in which I would be\n",
      "eternally punished for not believing in life, would that make me a Xian?\n",
      "(pardon my language) _Bloody_hell_no_!\n",
      "\n",
      "      ...Of course, being merely a reversal of your thinking, this\n",
      "doesn't add anything _new_ to the debate, but...\n",
      "\n",
      "> Several friends disagreed, arguing the fear of hell was necessary\n",
      "> to motivate people to Christianity. To me that fatally undercuts the\n",
      "> message that God is love.\n",
      "\n",
      "      A point very well taken, IMNSHO.\n",
      "\n",
      "-- \n",
      "\"Successful terrorism is called revolution, and is admired by history.\n",
      " Unsuccessful terrorism is just lowly, cowardly terrorism.\"\n",
      "    - Phil Trodwell on alt.atheism\n",
      "\n"
     ]
    }
   ],
   "source": [
    "print(train.data[1])"
   ]
  },
  {
   "cell_type": "code",
   "execution_count": 7,
   "metadata": {},
   "outputs": [],
   "source": [
    "model = make_pipeline(TfidfVectorizer(), MultinomialNB())"
   ]
  },
  {
   "cell_type": "code",
   "execution_count": 8,
   "metadata": {},
   "outputs": [],
   "source": [
    "model.fit(train.data, train.target)\n",
    "labels = model.predict(test.data)"
   ]
  },
  {
   "cell_type": "code",
   "execution_count": 9,
   "metadata": {},
   "outputs": [
    {
     "name": "stdout",
     "output_type": "stream",
     "text": [
      "[2 0 1 ... 1 2 1]\n"
     ]
    }
   ],
   "source": [
    "print(labels)"
   ]
  },
  {
   "cell_type": "code",
   "execution_count": 10,
   "metadata": {},
   "outputs": [
    {
     "data": {
      "image/png": "[encoded data removed]",
      "text/plain": [
       "<Figure size 432x288 with 1 Axes>"
      ]
     },
     "metadata": {
      "needs_background": "light"
     },
     "output_type": "display_data"
    }
   ],
   "source": [
    "mat = confusion_matrix(test.target, labels)\n",
    "sns.heatmap(mat.T, square=True, annot=True, fmt='d', cbar=False, xticklabels=train.target_names, yticklabels=train.target_names)\n",
    "\n",
    "plt.xlabel('true label')\n",
    "plt.ylabel('predicted label');"
   ]
  },
  {
   "cell_type": "code",
   "execution_count": 11,
   "metadata": {},
   "outputs": [],
   "source": [
    "def predict_category(s, train=train, model=model):\n",
    "    pred = model.predict([s])\n",
    "    return train.target_names[pred[0]]"
   ]
  },
  {
   "cell_type": "code",
   "execution_count": 12,
   "metadata": {},
   "outputs": [
    {
     "data": {
      "text/plain": [
       "'sci.space'"
      ]
     },
     "execution_count": 12,
     "metadata": {},
     "output_type": "execute_result"
    }
   ],
   "source": [
    "predict_category('sending a payload to the ISS')"
   ]
  },
  {
   "cell_type": "code",
   "execution_count": 13,
   "metadata": {},
   "outputs": [
    {
     "data": {
      "text/plain": [
       "'soc.religion.christian'"
      ]
     },
     "execution_count": 13,
     "metadata": {},
     "output_type": "execute_result"
    }
   ],
   "source": [
    "predict_category('discussing islam vs atheism')"
   ]
  },
  {
   "cell_type": "code",
   "execution_count": 14,
   "metadata": {},
   "outputs": [
    {
     "data": {
      "text/plain": [
       "'comp.graphics'"
      ]
     },
     "execution_count": 14,
     "metadata": {},
     "output_type": "execute_result"
    }
   ],
   "source": [
    "predict_category('determining the screen resolution')"
   ]
  }
 ],
 "metadata": {
  "kernelspec": {
   "display_name": "Python 3",
   "language": "python",
   "name": "python3"
  },
  "language_info": {
   "codemirror_mode": {
    "name": "ipython",
    "version": 3
   },
   "file_extension": ".py",
   "mimetype": "text/x-python",
   "name": "python",
   "nbconvert_exporter": "python",
   "pygments_lexer": "ipython3",
   "version": "3.7.4"
  }
 },
 "nbformat": 4,
 "nbformat_minor": 4
}
